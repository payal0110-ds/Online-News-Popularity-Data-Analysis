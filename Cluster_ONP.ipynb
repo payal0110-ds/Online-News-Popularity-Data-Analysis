{
 "cells": [
  {
   "cell_type": "markdown",
   "id": "8d2f7d1c",
   "metadata": {},
   "source": [
    "# K-Means Clustering\n"
   ]
  },
  {
   "cell_type": "code",
   "execution_count": 4,
   "id": "e952de7a",
   "metadata": {},
   "outputs": [],
   "source": [
    "import numpy as np\n",
    "import pandas as pd\n",
    "from sklearn.cluster import KMeans\n",
    "from sklearn.decomposition import PCA\n",
    "from matplotlib import pyplot as plt\n",
    "from collections import Counter\n",
    "import seaborn as sns\n",
    "%matplotlib inline"
   ]
  },
  {
   "cell_type": "code",
   "execution_count": 5,
   "id": "01acbab4",
   "metadata": {},
   "outputs": [
    {
     "data": {
      "text/html": [
       "<div>\n",
       "<style scoped>\n",
       "    .dataframe tbody tr th:only-of-type {\n",
       "        vertical-align: middle;\n",
       "    }\n",
       "\n",
       "    .dataframe tbody tr th {\n",
       "        vertical-align: top;\n",
       "    }\n",
       "\n",
       "    .dataframe thead th {\n",
       "        text-align: right;\n",
       "    }\n",
       "</style>\n",
       "<table border=\"1\" class=\"dataframe\">\n",
       "  <thead>\n",
       "    <tr style=\"text-align: right;\">\n",
       "      <th></th>\n",
       "      <th>global_subjectivity</th>\n",
       "      <th>rate_negative_words</th>\n",
       "      <th>kw_avg_max</th>\n",
       "      <th>n_tokens_content</th>\n",
       "      <th>LDA_00</th>\n",
       "      <th>is_weekend</th>\n",
       "      <th>data_channel_is_entertainment</th>\n",
       "      <th>kw_max_avg</th>\n",
       "      <th>LDA_02</th>\n",
       "      <th>LDA_01</th>\n",
       "      <th>self_reference_min_shares</th>\n",
       "      <th>max_negative_polarity</th>\n",
       "      <th>kw_max_min</th>\n",
       "      <th>weekday_is_wednesday</th>\n",
       "      <th>weekday_is_tuesday</th>\n",
       "      <th>weekday_is_monday</th>\n",
       "      <th>shares</th>\n",
       "    </tr>\n",
       "  </thead>\n",
       "  <tbody>\n",
       "    <tr>\n",
       "      <th>0</th>\n",
       "      <td>0.521617</td>\n",
       "      <td>0.230769</td>\n",
       "      <td>0.0</td>\n",
       "      <td>219</td>\n",
       "      <td>0.500331</td>\n",
       "      <td>0</td>\n",
       "      <td>1</td>\n",
       "      <td>0.0</td>\n",
       "      <td>0.040005</td>\n",
       "      <td>0.378279</td>\n",
       "      <td>496.0</td>\n",
       "      <td>-0.200000</td>\n",
       "      <td>0.0</td>\n",
       "      <td>0</td>\n",
       "      <td>0</td>\n",
       "      <td>1</td>\n",
       "      <td>593</td>\n",
       "    </tr>\n",
       "    <tr>\n",
       "      <th>1</th>\n",
       "      <td>0.341246</td>\n",
       "      <td>0.266667</td>\n",
       "      <td>0.0</td>\n",
       "      <td>255</td>\n",
       "      <td>0.799756</td>\n",
       "      <td>0</td>\n",
       "      <td>0</td>\n",
       "      <td>0.0</td>\n",
       "      <td>0.050096</td>\n",
       "      <td>0.050047</td>\n",
       "      <td>0.0</td>\n",
       "      <td>-0.100000</td>\n",
       "      <td>0.0</td>\n",
       "      <td>0</td>\n",
       "      <td>0</td>\n",
       "      <td>1</td>\n",
       "      <td>711</td>\n",
       "    </tr>\n",
       "    <tr>\n",
       "      <th>2</th>\n",
       "      <td>0.702222</td>\n",
       "      <td>0.142857</td>\n",
       "      <td>0.0</td>\n",
       "      <td>211</td>\n",
       "      <td>0.217792</td>\n",
       "      <td>0</td>\n",
       "      <td>0</td>\n",
       "      <td>0.0</td>\n",
       "      <td>0.033351</td>\n",
       "      <td>0.033334</td>\n",
       "      <td>918.0</td>\n",
       "      <td>-0.133333</td>\n",
       "      <td>0.0</td>\n",
       "      <td>0</td>\n",
       "      <td>0</td>\n",
       "      <td>1</td>\n",
       "      <td>1500</td>\n",
       "    </tr>\n",
       "  </tbody>\n",
       "</table>\n",
       "</div>"
      ],
      "text/plain": [
       "   global_subjectivity  rate_negative_words  kw_avg_max  n_tokens_content  \\\n",
       "0             0.521617             0.230769         0.0               219   \n",
       "1             0.341246             0.266667         0.0               255   \n",
       "2             0.702222             0.142857         0.0               211   \n",
       "\n",
       "     LDA_00  is_weekend  data_channel_is_entertainment  kw_max_avg    LDA_02  \\\n",
       "0  0.500331           0                              1         0.0  0.040005   \n",
       "1  0.799756           0                              0         0.0  0.050096   \n",
       "2  0.217792           0                              0         0.0  0.033351   \n",
       "\n",
       "     LDA_01  self_reference_min_shares  max_negative_polarity  kw_max_min  \\\n",
       "0  0.378279                      496.0              -0.200000         0.0   \n",
       "1  0.050047                        0.0              -0.100000         0.0   \n",
       "2  0.033334                      918.0              -0.133333         0.0   \n",
       "\n",
       "   weekday_is_wednesday  weekday_is_tuesday  weekday_is_monday  shares  \n",
       "0                     0                   0                  1     593  \n",
       "1                     0                   0                  1     711  \n",
       "2                     0                   0                  1    1500  "
      ]
     },
     "execution_count": 5,
     "metadata": {},
     "output_type": "execute_result"
    }
   ],
   "source": [
    "# Import dataset\n",
    "df = pd.read_csv(\"/Users/payalparida/Desktop/Assessments-Term 2/CS5811/OnlineNewsPopularity_Final_Contineous.csv\")\n",
    "df.head(3)"
   ]
  },
  {
   "cell_type": "code",
   "execution_count": 6,
   "id": "37374def",
   "metadata": {},
   "outputs": [
    {
     "data": {
      "text/plain": [
       "['global_subjectivity',\n",
       " 'rate_negative_words',\n",
       " 'kw_avg_max',\n",
       " 'n_tokens_content',\n",
       " 'LDA_00',\n",
       " 'is_weekend',\n",
       " 'data_channel_is_entertainment',\n",
       " 'kw_max_avg',\n",
       " 'LDA_02',\n",
       " 'LDA_01',\n",
       " 'self_reference_min_shares',\n",
       " 'max_negative_polarity',\n",
       " 'kw_max_min',\n",
       " 'weekday_is_wednesday',\n",
       " 'weekday_is_tuesday',\n",
       " 'weekday_is_monday',\n",
       " 'shares']"
      ]
     },
     "execution_count": 6,
     "metadata": {},
     "output_type": "execute_result"
    }
   ],
   "source": [
    "list(df.columns)"
   ]
  },
  {
   "cell_type": "code",
   "execution_count": 7,
   "id": "d9c34619",
   "metadata": {},
   "outputs": [
    {
     "data": {
      "text/plain": [
       "['global_subjectivity',\n",
       " 'rate_negative_words',\n",
       " 'kw_avg_max',\n",
       " 'n_tokens_content',\n",
       " 'LDA_00',\n",
       " 'is_weekend',\n",
       " 'data_channel_is_entertainment',\n",
       " 'kw_max_avg',\n",
       " 'LDA_02',\n",
       " 'LDA_01',\n",
       " 'self_reference_min_shares',\n",
       " 'max_negative_polarity',\n",
       " 'kw_max_min',\n",
       " 'weekday_is_wednesday',\n",
       " 'weekday_is_tuesday',\n",
       " 'weekday_is_monday']"
      ]
     },
     "execution_count": 7,
     "metadata": {},
     "output_type": "execute_result"
    }
   ],
   "source": [
    "# Generate new data frame removing the sepcified variables\n",
    "\n",
    "df_num = df.drop([\"shares\"],axis = 1)\n",
    "list(df_num.columns)"
   ]
  },
  {
   "cell_type": "code",
   "execution_count": 8,
   "id": "0510e973",
   "metadata": {},
   "outputs": [
    {
     "name": "stderr",
     "output_type": "stream",
     "text": [
      "/Users/payalparida/anaconda3/lib/python3.10/site-packages/sklearn/cluster/_kmeans.py:870: FutureWarning: The default value of `n_init` will change from 10 to 'auto' in 1.4. Set the value of `n_init` explicitly to suppress the warning\n",
      "  warnings.warn(\n",
      "/Users/payalparida/anaconda3/lib/python3.10/site-packages/sklearn/cluster/_kmeans.py:870: FutureWarning: The default value of `n_init` will change from 10 to 'auto' in 1.4. Set the value of `n_init` explicitly to suppress the warning\n",
      "  warnings.warn(\n",
      "/Users/payalparida/anaconda3/lib/python3.10/site-packages/sklearn/cluster/_kmeans.py:870: FutureWarning: The default value of `n_init` will change from 10 to 'auto' in 1.4. Set the value of `n_init` explicitly to suppress the warning\n",
      "  warnings.warn(\n",
      "/Users/payalparida/anaconda3/lib/python3.10/site-packages/sklearn/cluster/_kmeans.py:870: FutureWarning: The default value of `n_init` will change from 10 to 'auto' in 1.4. Set the value of `n_init` explicitly to suppress the warning\n",
      "  warnings.warn(\n",
      "/Users/payalparida/anaconda3/lib/python3.10/site-packages/sklearn/cluster/_kmeans.py:870: FutureWarning: The default value of `n_init` will change from 10 to 'auto' in 1.4. Set the value of `n_init` explicitly to suppress the warning\n",
      "  warnings.warn(\n",
      "/Users/payalparida/anaconda3/lib/python3.10/site-packages/sklearn/cluster/_kmeans.py:870: FutureWarning: The default value of `n_init` will change from 10 to 'auto' in 1.4. Set the value of `n_init` explicitly to suppress the warning\n",
      "  warnings.warn(\n",
      "/Users/payalparida/anaconda3/lib/python3.10/site-packages/sklearn/cluster/_kmeans.py:870: FutureWarning: The default value of `n_init` will change from 10 to 'auto' in 1.4. Set the value of `n_init` explicitly to suppress the warning\n",
      "  warnings.warn(\n",
      "/Users/payalparida/anaconda3/lib/python3.10/site-packages/sklearn/cluster/_kmeans.py:870: FutureWarning: The default value of `n_init` will change from 10 to 'auto' in 1.4. Set the value of `n_init` explicitly to suppress the warning\n",
      "  warnings.warn(\n",
      "/Users/payalparida/anaconda3/lib/python3.10/site-packages/sklearn/cluster/_kmeans.py:870: FutureWarning: The default value of `n_init` will change from 10 to 'auto' in 1.4. Set the value of `n_init` explicitly to suppress the warning\n",
      "  warnings.warn(\n"
     ]
    }
   ],
   "source": [
    "sse = []\n",
    "k_rng = range(1,10)\n",
    "for k in k_rng:\n",
    "    km = KMeans(n_clusters=k)\n",
    "    km.fit(df_num)\n",
    "    sse.append(km.inertia_)"
   ]
  },
  {
   "cell_type": "code",
   "execution_count": 9,
   "id": "cc7e8ab8",
   "metadata": {},
   "outputs": [
    {
     "data": {
      "image/png": "[encoded data removed]",
      "text/plain": [
       "<Figure size 640x480 with 1 Axes>"
      ]
     },
     "metadata": {},
     "output_type": "display_data"
    }
   ],
   "source": [
    "plt.xlabel('K')\n",
    "plt.ylabel('Sum of squared error')\n",
    "plt.plot(k_rng,sse)# Create a new dataframe to add the new cluster variable\n",
    "df_num1 = df_num"
   ]
  },
  {
   "cell_type": "code",
   "execution_count": 10,
   "id": "50a2ac20",
   "metadata": {},
   "outputs": [
    {
     "name": "stderr",
     "output_type": "stream",
     "text": [
      "/Users/payalparida/anaconda3/lib/python3.10/site-packages/sklearn/cluster/_kmeans.py:870: FutureWarning: The default value of `n_init` will change from 10 to 'auto' in 1.4. Set the value of `n_init` explicitly to suppress the warning\n",
      "  warnings.warn(\n"
     ]
    },
    {
     "data": {
      "text/plain": [
       "array([1, 1, 1, ..., 0, 3, 0], dtype=int32)"
      ]
     },
     "execution_count": 10,
     "metadata": {},
     "output_type": "execute_result"
    }
   ],
   "source": [
    "# create a KMeans object with k=4\n",
    "km = KMeans(n_clusters=4)\n",
    "\n",
    "# fit the KMeans object to the dataset assigning to y_predicted\n",
    "y_predicted = km.fit_predict(df_num)\n",
    "y_predicted"
   ]
  },
  {
   "cell_type": "code",
   "execution_count": 11,
   "id": "87224ee6",
   "metadata": {},
   "outputs": [],
   "source": [
    "# Create a new dataframe to add the new cluster variable\n",
    "df_num_cluster = df_num"
   ]
  },
  {
   "cell_type": "code",
   "execution_count": 12,
   "id": "65bb478e",
   "metadata": {},
   "outputs": [
    {
     "data": {
      "text/html": [
       "<div>\n",
       "<style scoped>\n",
       "    .dataframe tbody tr th:only-of-type {\n",
       "        vertical-align: middle;\n",
       "    }\n",
       "\n",
       "    .dataframe tbody tr th {\n",
       "        vertical-align: top;\n",
       "    }\n",
       "\n",
       "    .dataframe thead th {\n",
       "        text-align: right;\n",
       "    }\n",
       "</style>\n",
       "<table border=\"1\" class=\"dataframe\">\n",
       "  <thead>\n",
       "    <tr style=\"text-align: right;\">\n",
       "      <th></th>\n",
       "      <th>global_subjectivity</th>\n",
       "      <th>rate_negative_words</th>\n",
       "      <th>kw_avg_max</th>\n",
       "      <th>n_tokens_content</th>\n",
       "      <th>LDA_00</th>\n",
       "      <th>is_weekend</th>\n",
       "      <th>data_channel_is_entertainment</th>\n",
       "      <th>kw_max_avg</th>\n",
       "      <th>LDA_02</th>\n",
       "      <th>LDA_01</th>\n",
       "      <th>self_reference_min_shares</th>\n",
       "      <th>max_negative_polarity</th>\n",
       "      <th>kw_max_min</th>\n",
       "      <th>weekday_is_wednesday</th>\n",
       "      <th>weekday_is_tuesday</th>\n",
       "      <th>weekday_is_monday</th>\n",
       "      <th>cluster</th>\n",
       "    </tr>\n",
       "  </thead>\n",
       "  <tbody>\n",
       "    <tr>\n",
       "      <th>0</th>\n",
       "      <td>0.521617</td>\n",
       "      <td>0.230769</td>\n",
       "      <td>0.0</td>\n",
       "      <td>219</td>\n",
       "      <td>0.500331</td>\n",
       "      <td>0</td>\n",
       "      <td>1</td>\n",
       "      <td>0.0</td>\n",
       "      <td>0.040005</td>\n",
       "      <td>0.378279</td>\n",
       "      <td>496.0</td>\n",
       "      <td>-0.200000</td>\n",
       "      <td>0.0</td>\n",
       "      <td>0</td>\n",
       "      <td>0</td>\n",
       "      <td>1</td>\n",
       "      <td>1</td>\n",
       "    </tr>\n",
       "    <tr>\n",
       "      <th>1</th>\n",
       "      <td>0.341246</td>\n",
       "      <td>0.266667</td>\n",
       "      <td>0.0</td>\n",
       "      <td>255</td>\n",
       "      <td>0.799756</td>\n",
       "      <td>0</td>\n",
       "      <td>0</td>\n",
       "      <td>0.0</td>\n",
       "      <td>0.050096</td>\n",
       "      <td>0.050047</td>\n",
       "      <td>0.0</td>\n",
       "      <td>-0.100000</td>\n",
       "      <td>0.0</td>\n",
       "      <td>0</td>\n",
       "      <td>0</td>\n",
       "      <td>1</td>\n",
       "      <td>1</td>\n",
       "    </tr>\n",
       "    <tr>\n",
       "      <th>2</th>\n",
       "      <td>0.702222</td>\n",
       "      <td>0.142857</td>\n",
       "      <td>0.0</td>\n",
       "      <td>211</td>\n",
       "      <td>0.217792</td>\n",
       "      <td>0</td>\n",
       "      <td>0</td>\n",
       "      <td>0.0</td>\n",
       "      <td>0.033351</td>\n",
       "      <td>0.033334</td>\n",
       "      <td>918.0</td>\n",
       "      <td>-0.133333</td>\n",
       "      <td>0.0</td>\n",
       "      <td>0</td>\n",
       "      <td>0</td>\n",
       "      <td>1</td>\n",
       "      <td>1</td>\n",
       "    </tr>\n",
       "    <tr>\n",
       "      <th>3</th>\n",
       "      <td>0.429850</td>\n",
       "      <td>0.333333</td>\n",
       "      <td>0.0</td>\n",
       "      <td>531</td>\n",
       "      <td>0.028573</td>\n",
       "      <td>0</td>\n",
       "      <td>1</td>\n",
       "      <td>0.0</td>\n",
       "      <td>0.494651</td>\n",
       "      <td>0.419300</td>\n",
       "      <td>0.0</td>\n",
       "      <td>-0.166667</td>\n",
       "      <td>0.0</td>\n",
       "      <td>0</td>\n",
       "      <td>0</td>\n",
       "      <td>1</td>\n",
       "      <td>1</td>\n",
       "    </tr>\n",
       "    <tr>\n",
       "      <th>4</th>\n",
       "      <td>0.513502</td>\n",
       "      <td>0.139785</td>\n",
       "      <td>0.0</td>\n",
       "      <td>1072</td>\n",
       "      <td>0.028633</td>\n",
       "      <td>0</td>\n",
       "      <td>0</td>\n",
       "      <td>0.0</td>\n",
       "      <td>0.028575</td>\n",
       "      <td>0.028794</td>\n",
       "      <td>545.0</td>\n",
       "      <td>-0.050000</td>\n",
       "      <td>0.0</td>\n",
       "      <td>0</td>\n",
       "      <td>0</td>\n",
       "      <td>1</td>\n",
       "      <td>1</td>\n",
       "    </tr>\n",
       "  </tbody>\n",
       "</table>\n",
       "</div>"
      ],
      "text/plain": [
       "   global_subjectivity  rate_negative_words  kw_avg_max  n_tokens_content  \\\n",
       "0             0.521617             0.230769         0.0               219   \n",
       "1             0.341246             0.266667         0.0               255   \n",
       "2             0.702222             0.142857         0.0               211   \n",
       "3             0.429850             0.333333         0.0               531   \n",
       "4             0.513502             0.139785         0.0              1072   \n",
       "\n",
       "     LDA_00  is_weekend  data_channel_is_entertainment  kw_max_avg    LDA_02  \\\n",
       "0  0.500331           0                              1         0.0  0.040005   \n",
       "1  0.799756           0                              0         0.0  0.050096   \n",
       "2  0.217792           0                              0         0.0  0.033351   \n",
       "3  0.028573           0                              1         0.0  0.494651   \n",
       "4  0.028633           0                              0         0.0  0.028575   \n",
       "\n",
       "     LDA_01  self_reference_min_shares  max_negative_polarity  kw_max_min  \\\n",
       "0  0.378279                      496.0              -0.200000         0.0   \n",
       "1  0.050047                        0.0              -0.100000         0.0   \n",
       "2  0.033334                      918.0              -0.133333         0.0   \n",
       "3  0.419300                        0.0              -0.166667         0.0   \n",
       "4  0.028794                      545.0              -0.050000         0.0   \n",
       "\n",
       "   weekday_is_wednesday  weekday_is_tuesday  weekday_is_monday  cluster  \n",
       "0                     0                   0                  1        1  \n",
       "1                     0                   0                  1        1  \n",
       "2                     0                   0                  1        1  \n",
       "3                     0                   0                  1        1  \n",
       "4                     0                   0                  1        1  "
      ]
     },
     "execution_count": 12,
     "metadata": {},
     "output_type": "execute_result"
    }
   ],
   "source": [
    "# Add the cluster value in new variable 'cluster' in the main dataset 'df1'\n",
    "\n",
    "df_num_cluster['cluster']=y_predicted\n",
    "df_num_cluster.head()"
   ]
  },
  {
   "cell_type": "code",
   "execution_count": 13,
   "id": "97274a1c",
   "metadata": {},
   "outputs": [
    {
     "data": {
      "text/plain": [
       "array([1, 1, 1, ..., 0, 3, 0], dtype=int32)"
      ]
     },
     "execution_count": 13,
     "metadata": {},
     "output_type": "execute_result"
    }
   ],
   "source": [
    "#gives predicted class labels (cluster) for each data point\n",
    "km.labels_"
   ]
  },
  {
   "cell_type": "markdown",
   "id": "c766ddcf",
   "metadata": {},
   "source": [
    "### Check the total count of observation belongs to specific cluster\n"
   ]
  },
  {
   "cell_type": "code",
   "execution_count": 21,
   "id": "52e883da",
   "metadata": {},
   "outputs": [
    {
     "data": {
      "text/plain": [
       "Counter({1: 6015, 3: 17418, 2: 4153, 0: 12058})"
      ]
     },
     "execution_count": 21,
     "metadata": {},
     "output_type": "execute_result"
    }
   ],
   "source": [
    "Counter(km.labels_)"
   ]
  },
  {
   "cell_type": "markdown",
   "id": "e41f6203",
   "metadata": {},
   "source": [
    "## Visualization of Clustering"
   ]
  },
  {
   "cell_type": "code",
   "execution_count": 20,
   "id": "c3b6e836",
   "metadata": {},
   "outputs": [],
   "source": [
    "pca_num_components = 2"
   ]
  },
  {
   "cell_type": "code",
   "execution_count": 15,
   "id": "1dd2453d",
   "metadata": {},
   "outputs": [
    {
     "data": {
      "text/plain": [
       "array([[-259330.76500352,   -1543.21221213],\n",
       "       [-259334.72753195,   -2039.05773233],\n",
       "       [-259327.40127238,   -1121.35748422],\n",
       "       ...,\n",
       "       [  36553.67516322,   -2865.66840236],\n",
       "       [  -4723.19292135,   -3569.10670514],\n",
       "       [ 106885.63439102,   -2821.10075007]])"
      ]
     },
     "execution_count": 15,
     "metadata": {},
     "output_type": "execute_result"
    }
   ],
   "source": [
    "reduced_data = PCA(n_components=pca_num_components).fit_transform(df_num_cluster)\n",
    "reduced_data"
   ]
  },
  {
   "cell_type": "code",
   "execution_count": 17,
   "id": "a08fcc0b",
   "metadata": {},
   "outputs": [
    {
     "data": {
      "text/html": [
       "<div>\n",
       "<style scoped>\n",
       "    .dataframe tbody tr th:only-of-type {\n",
       "        vertical-align: middle;\n",
       "    }\n",
       "\n",
       "    .dataframe tbody tr th {\n",
       "        vertical-align: top;\n",
       "    }\n",
       "\n",
       "    .dataframe thead th {\n",
       "        text-align: right;\n",
       "    }\n",
       "</style>\n",
       "<table border=\"1\" class=\"dataframe\">\n",
       "  <thead>\n",
       "    <tr style=\"text-align: right;\">\n",
       "      <th></th>\n",
       "      <th>pca1</th>\n",
       "      <th>pca2</th>\n",
       "    </tr>\n",
       "  </thead>\n",
       "  <tbody>\n",
       "    <tr>\n",
       "      <th>0</th>\n",
       "      <td>-259330.765004</td>\n",
       "      <td>-1543.212212</td>\n",
       "    </tr>\n",
       "    <tr>\n",
       "      <th>1</th>\n",
       "      <td>-259334.727532</td>\n",
       "      <td>-2039.057732</td>\n",
       "    </tr>\n",
       "    <tr>\n",
       "      <th>2</th>\n",
       "      <td>-259327.401272</td>\n",
       "      <td>-1121.357484</td>\n",
       "    </tr>\n",
       "    <tr>\n",
       "      <th>3</th>\n",
       "      <td>-259334.820398</td>\n",
       "      <td>-2039.226544</td>\n",
       "    </tr>\n",
       "    <tr>\n",
       "      <th>4</th>\n",
       "      <td>-259330.661748</td>\n",
       "      <td>-1494.751373</td>\n",
       "    </tr>\n",
       "    <tr>\n",
       "      <th>...</th>\n",
       "      <td>...</td>\n",
       "      <td>...</td>\n",
       "    </tr>\n",
       "    <tr>\n",
       "      <th>39639</th>\n",
       "      <td>115723.581391</td>\n",
       "      <td>6416.385366</td>\n",
       "    </tr>\n",
       "    <tr>\n",
       "      <th>39640</th>\n",
       "      <td>-66308.458965</td>\n",
       "      <td>-1366.599271</td>\n",
       "    </tr>\n",
       "    <tr>\n",
       "      <th>39641</th>\n",
       "      <td>36553.675163</td>\n",
       "      <td>-2865.668402</td>\n",
       "    </tr>\n",
       "    <tr>\n",
       "      <th>39642</th>\n",
       "      <td>-4723.192921</td>\n",
       "      <td>-3569.106705</td>\n",
       "    </tr>\n",
       "    <tr>\n",
       "      <th>39643</th>\n",
       "      <td>106885.634391</td>\n",
       "      <td>-2821.100750</td>\n",
       "    </tr>\n",
       "  </tbody>\n",
       "</table>\n",
       "<p>39644 rows × 2 columns</p>\n",
       "</div>"
      ],
      "text/plain": [
       "                pca1         pca2\n",
       "0     -259330.765004 -1543.212212\n",
       "1     -259334.727532 -2039.057732\n",
       "2     -259327.401272 -1121.357484\n",
       "3     -259334.820398 -2039.226544\n",
       "4     -259330.661748 -1494.751373\n",
       "...              ...          ...\n",
       "39639  115723.581391  6416.385366\n",
       "39640  -66308.458965 -1366.599271\n",
       "39641   36553.675163 -2865.668402\n",
       "39642   -4723.192921 -3569.106705\n",
       "39643  106885.634391 -2821.100750\n",
       "\n",
       "[39644 rows x 2 columns]"
      ]
     },
     "execution_count": 17,
     "metadata": {},
     "output_type": "execute_result"
    }
   ],
   "source": [
    "results = pd.DataFrame(reduced_data,columns=['pca1','pca2'])\n",
    "results"
   ]
  },
  {
   "cell_type": "code",
   "execution_count": 18,
   "id": "e66beb59",
   "metadata": {},
   "outputs": [
    {
     "data": {
      "image/png": "[encoded data removed]",
      "text/plain": [
       "<Figure size 640x480 with 1 Axes>"
      ]
     },
     "metadata": {},
     "output_type": "display_data"
    }
   ],
   "source": [
    "sns.scatterplot(x=\"pca1\", y=\"pca2\", hue=df_num['cluster'], data=results)\n",
    "plt.title('K-means Clustering with 2 dimensions')\n",
    "plt.show()"
   ]
  }
 ],
 "metadata": {
  "kernelspec": {
   "display_name": "Python 3 (ipykernel)",
   "language": "python",
   "name": "python3"
  },
  "language_info": {
   "codemirror_mode": {
    "name": "ipython",
    "version": 3
   },
   "file_extension": ".py",
   "mimetype": "text/x-python",
   "name": "python",
   "nbconvert_exporter": "python",
   "pygments_lexer": "ipython3",
   "version": "3.10.9"
  }
 },
 "nbformat": 4,
 "nbformat_minor": 5
}
